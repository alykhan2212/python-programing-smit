{
 "cells": [
  {
   "cell_type": "code",
   "execution_count": 5,
   "metadata": {},
   "outputs": [
    {
     "name": "stdout",
     "output_type": "stream",
     "text": [
      "Enter firts value 10\n",
      "Enter second value 20\n",
      "Enter opertaor e.g. +,-,*,/,P for power+\n",
      "10 20\n",
      "30\n"
     ]
    }
   ],
   "source": [
    "#1. Make a calculator using Python with addition , subtraction , multiplication , division and power.\n",
    "\n",
    "num1 = int(input(\"Enter firts value \"));\n",
    "num2 = int(input(\"Enter second value \"));\n",
    "events = input(\"Enter opertaor e.g. +,-,*,/,P for power\");\n",
    "\n",
    "print(num1,num2)\n",
    "\n",
    "if events == '+':\n",
    "    result = num1 + num2\n",
    "    print(result)\n",
    "elif events == '-':\n",
    "    result = num1 - num2\n",
    "    print(result)\n",
    "elif events == '*':\n",
    "    result = num1 * num2\n",
    "    print(result)\n",
    "elif events == '/':\n",
    "    result = num1 / num2\n",
    "    print(result)\n",
    "elif events == 'power':\n",
    "    result = pow(num1,num2)\n",
    "    print(result)\n",
    "else:\n",
    "    print(\"Enter data correctly\")"
   ]
  },
  {
   "cell_type": "code",
   "execution_count": 6,
   "metadata": {},
   "outputs": [
    {
     "name": "stdout",
     "output_type": "stream",
     "text": [
      "4\n",
      "1\n",
      "5\n",
      "6\n",
      "1\n"
     ]
    }
   ],
   "source": [
    "#2. Write a program to check if there is any numeric value in list using for loop\n",
    "\n",
    "a = [4,'ali',1,'pak',5,6,1]\n",
    "\n",
    "for a in a:\n",
    "    if type(a) == int: \n",
    "        print(a)"
   ]
  },
  {
   "cell_type": "code",
   "execution_count": 4,
   "metadata": {},
   "outputs": [
    {
     "name": "stdout",
     "output_type": "stream",
     "text": [
      "{'key': 'value'}\n",
      "{'key': 'value', 'newkey': 'newvalue'}\n"
     ]
    }
   ],
   "source": [
    "#3. Write a Python script to add a key to a dictionary\n",
    "d = {'key':'value'}\n",
    "print(d)\n",
    "\n",
    "d['newkey'] = 'newvalue'\n",
    "print(d)"
   ]
  },
  {
   "cell_type": "code",
   "execution_count": 7,
   "metadata": {},
   "outputs": [
    {
     "name": "stdout",
     "output_type": "stream",
     "text": [
      "62\n"
     ]
    }
   ],
   "source": [
    "#4. Write a Python program to sum all the numeric items in a dictionary\n",
    "\n",
    "d = {'key1': 1,'key2': 14,'key3': 47}\n",
    "sum1 = sum(d[item] for item in d)\n",
    "print(sum1)\n",
    "\n"
   ]
  },
  {
   "cell_type": "code",
   "execution_count": 12,
   "metadata": {},
   "outputs": [
    {
     "name": "stdout",
     "output_type": "stream",
     "text": [
      "[1, 4, 2]\n"
     ]
    }
   ],
   "source": [
    "#5. Write a program to identify duplicate values from list\n",
    "\n",
    "lst = [1,2,1,3,1,4,1,4,2,5,9]\n",
    "\n",
    "dupItems = []\n",
    "uniqItems = {}\n",
    "for x in lst:\n",
    "    if x not in uniqItems:\n",
    "        uniqItems[x]=1\n",
    "    else:\n",
    "        if uniqItems[x] == 1:\n",
    "            dupItems.append(x)\n",
    "        uniqItems[x] +=1\n",
    "print(dupItems)"
   ]
  },
  {
   "cell_type": "code",
   "execution_count": 11,
   "metadata": {},
   "outputs": [
    {
     "name": "stdout",
     "output_type": "stream",
     "text": [
      "enter a key key\n",
      "enter key value value\n",
      "Already exist key\n"
     ]
    }
   ],
   "source": [
    "#6. Write a Python script to check if a given key already exists in a dictionary\n",
    "\n",
    "mykeys = {'key':'value'}\n",
    "key = input('enter a key ')\n",
    "value = input('enter key value ')\n",
    "\n",
    "if key in mykeys:\n",
    "    print('Already exist',key)\n",
    "else:\n",
    "    print('added successfully ')\n",
    "    mykeys[key] = value\n",
    "    print(mykeys)"
   ]
  }
 ],
 "metadata": {
  "kernelspec": {
   "display_name": "Python 3",
   "language": "python",
   "name": "python3"
  },
  "language_info": {
   "codemirror_mode": {
    "name": "ipython",
    "version": 3
   },
   "file_extension": ".py",
   "mimetype": "text/x-python",
   "name": "python",
   "nbconvert_exporter": "python",
   "pygments_lexer": "ipython3",
   "version": "3.7.4"
  }
 },
 "nbformat": 4,
 "nbformat_minor": 2
}
