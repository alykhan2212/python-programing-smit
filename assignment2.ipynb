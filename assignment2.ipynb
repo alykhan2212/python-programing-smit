{
 "cells": [
  {
   "cell_type": "code",
   "execution_count": 1,
   "metadata": {},
   "outputs": [
    {
     "name": "stdout",
     "output_type": "stream",
     "text": [
      "subject 1 marks= 100\n",
      "subject 2 marks= 80\n",
      "subject 3 marks= 60\n",
      "subject 4 marks= 50\n",
      "subject 5 marks= 65\n",
      "Average =  71.0\n",
      "Grade: C\n"
     ]
    }
   ],
   "source": [
    "#1 Write a program which takes 5 inputs from user for different subject’s marks, total it and generate mark sheet using grades ?\n",
    "\n",
    "num_array = list()\n",
    "subjects =['subject 1 marks= ',\n",
    "           'subject 2 marks= ',\n",
    "           'subject 3 marks= ',\n",
    "           'subject 4 marks= ',\n",
    "           'subject 5 marks= ']\n",
    "\n",
    "\n",
    "for i in range(5):\n",
    "   n = input(subjects[i] ,)\n",
    "   num_array.append(int(n))\n",
    "    \n",
    "add = lambda a,b,c,d,e:a+b+c+d+e\n",
    "avg = add(num_array[0],num_array[1],num_array[2],num_array[3],num_array[4])/5\n",
    "print(\"Average = \",avg)\n",
    "\n",
    "if avg>=90:\n",
    "    print(\"Grade: A\")\n",
    "elif avg>=80 and avg<90:\n",
    "    print(\"Grade: B\")\n",
    "elif avg>=70 and avg<80:\n",
    "    print(\"Grade: C\")\n",
    "elif avg>=60 and avg<70:\n",
    "    print(\"Grade: D\")\n",
    "else:\n",
    "    print(\"Grade: F\")\n"
   ]
  },
  {
   "cell_type": "code",
   "execution_count": 2,
   "metadata": {},
   "outputs": [
    {
     "name": "stdout",
     "output_type": "stream",
     "text": [
      "Enter a number: 2\n",
      "2 is Even\n"
     ]
    }
   ],
   "source": [
    "#2 Write a program which take input from user and identify that the given number is even or odd?\n",
    "\n",
    "num = int(input(\"Enter a number: \"))\n",
    "if (num % 2) == 0:\n",
    "   print(\"{0} is Even\".format(num))\n",
    "else:\n",
    "   print(\"{0} is Odd\".format(num))\n"
   ]
  },
  {
   "cell_type": "code",
   "execution_count": 3,
   "metadata": {},
   "outputs": [
    {
     "name": "stdout",
     "output_type": "stream",
     "text": [
      "3\n"
     ]
    }
   ],
   "source": [
    "#3 Write a program which print the length of the list?\n",
    "\n",
    "mylist = [\"apple\", \"banana\", \"cherry\"]\n",
    "print(len(mylist))"
   ]
  },
  {
   "cell_type": "code",
   "execution_count": 4,
   "metadata": {},
   "outputs": [
    {
     "name": "stdout",
     "output_type": "stream",
     "text": [
      "sum of existing numbers in list : 10\n"
     ]
    }
   ],
   "source": [
    "#4 Write a Python program to sum all the numeric items in a list?\n",
    "\n",
    "lst = [1,2,3,4]\n",
    "print(\"sum of existing numbers in list :\", sum(lst))\n"
   ]
  },
  {
   "cell_type": "code",
   "execution_count": 10,
   "metadata": {},
   "outputs": [
    {
     "name": "stdout",
     "output_type": "stream",
     "text": [
      "4 is the largest number in list\n"
     ]
    }
   ],
   "source": [
    "#5 Write a Python program to get the largest number from a numeric list.?\n",
    "\n",
    "lst = [1,2,3,4]\n",
    "print(\"{0} is the largest number in list\".format(max(lst)))\n"
   ]
  },
  {
   "cell_type": "code",
   "execution_count": 11,
   "metadata": {},
   "outputs": [
    {
     "name": "stdout",
     "output_type": "stream",
     "text": [
      "[1, 1, 2, 3]\n"
     ]
    }
   ],
   "source": [
    "#6 write a program that prints out all the elements of the list that are less than 5.?\n",
    "\n",
    "a = [1, 1, 2, 3, 5, 8, 13, 21, 34, 55, 89]\n",
    "a_sorted = sorted(i for i in a if i < 5)\n",
    "print(a_sorted)\n"
   ]
  }
 ],
 "metadata": {
  "kernelspec": {
   "display_name": "Python 3",
   "language": "python",
   "name": "python3"
  },
  "language_info": {
   "codemirror_mode": {
    "name": "ipython",
    "version": 3
   },
   "file_extension": ".py",
   "mimetype": "text/x-python",
   "name": "python",
   "nbconvert_exporter": "python",
   "pygments_lexer": "ipython3",
   "version": "3.7.4"
  }
 },
 "nbformat": 4,
 "nbformat_minor": 2
}
