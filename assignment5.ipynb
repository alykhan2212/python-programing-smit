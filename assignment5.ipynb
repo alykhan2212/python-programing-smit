{
 "cells": [
  {
   "cell_type": "code",
   "execution_count": 9,
   "metadata": {},
   "outputs": [
    {
     "name": "stdout",
     "output_type": "stream",
     "text": [
      "The factorial of 0 is 1\n",
      "The factorial of 3 is 6\n",
      "Please Enter positive numbers \n"
     ]
    }
   ],
   "source": [
    "#Question no.1\n",
    "\n",
    "def factorial(num):\n",
    "    if num < 0:\n",
    "        print(\"Please Enter positive numbers \")\n",
    "    elif num == 0:\n",
    "        print(\"The factorial of 0 is 1\")\n",
    "    else:\n",
    "        factorial = 1\n",
    "        for i in range(1,num + 1):\n",
    "            factorial = factorial*i\n",
    "        print(\"The factorial of\",num,\"is\",factorial)\n",
    "    \n",
    "\n",
    "factorial(0)\n",
    "factorial(3)\n",
    "factorial(-1)"
   ]
  },
  {
   "cell_type": "code",
   "execution_count": 16,
   "metadata": {},
   "outputs": [
    {
     "name": "stdout",
     "output_type": "stream",
     "text": [
      "There is 5 lowercase and 2 uppercase exist in string\n"
     ]
    }
   ],
   "source": [
    "#Question no.2\n",
    "\n",
    "def casevalidator(val):\n",
    "    \n",
    "    countl=0\n",
    "    countu=0\n",
    "   \n",
    "\n",
    "    for char in val: \n",
    "\n",
    "        if char.islower(): \n",
    "            countl += 1 \n",
    "            \n",
    "        if char.isupper():\n",
    "            countu += 1 \n",
    "            \n",
    "    print(\"There is {} lowercase and {} uppercase exist in string\".format(countl,countu))\n",
    "\n",
    "string = \"Ali Khan\" \n",
    "casevalidator(string) "
   ]
  },
  {
   "cell_type": "code",
   "execution_count": 28,
   "metadata": {},
   "outputs": [
    {
     "name": "stdout",
     "output_type": "stream",
     "text": [
      "Raw list =  [2, 4, 6, 7, 5, 8, 10, 13, 12]\n",
      "Even numbers in raw list =  [2, 4, 6, 8, 10, 12]\n"
     ]
    }
   ],
   "source": [
    "#Question no.3\n",
    "\n",
    "lst = [2,4,6,7,5,8,10,13,12]\n",
    "\n",
    "def evnumbers(lst):\n",
    "    newlst = []\n",
    "    for number in lst:\n",
    "        if number % 2 == 0:\n",
    "            newlst.append(number)\n",
    "            \n",
    "    print(\"Even numbers in raw list = \", newlst)\n",
    "\n",
    "print(\"Raw list = \", lst)\n",
    "evnumbers(lst)\n"
   ]
  },
  {
   "cell_type": "code",
   "execution_count": 30,
   "metadata": {},
   "outputs": [
    {
     "name": "stdout",
     "output_type": "stream",
     "text": [
      "kayak is palindrome\n",
      "deified is palindrome\n",
      "string isn't palindrome\n"
     ]
    }
   ],
   "source": [
    "#Question no.4\n",
    "\n",
    "def palindrome(string):\n",
    "    reverse = string[::-1]\n",
    "    if string == reverse:\n",
    "        print(string + \" is palindrome\")\n",
    "    else:\n",
    "        print(string + \" isn't palindrome\")\n",
    "\n",
    "string = 'kayak'\n",
    "palindrome(string)\n",
    "\n",
    "palindrome('deified')\n",
    "palindrome('string')\n",
    "\n"
   ]
  },
  {
   "cell_type": "code",
   "execution_count": 38,
   "metadata": {},
   "outputs": [
    {
     "name": "stdout",
     "output_type": "stream",
     "text": [
      "2 is a prime number\n",
      "4 isn't a prime number\n",
      "6 isn't a prime number\n",
      "7 is a prime number\n",
      "5 is a prime number\n",
      "8 isn't a prime number\n",
      "10 isn't a prime number\n",
      "13 is a prime number\n",
      "12 isn't a prime number\n",
      "32 isn't a prime number\n"
     ]
    }
   ],
   "source": [
    "#Question no.5\n",
    "\n",
    "lst = [2,4,6,7,5,8,10,13,12,32]\n",
    "\n",
    "def primeNum(num):\n",
    "    if num > 1:\n",
    "        for x in range(2, num):\n",
    "            if num % x == 0:\n",
    "                return 0\n",
    "        \n",
    "        return 1\n",
    "        \n",
    "\n",
    "for number in lst:\n",
    "    if primeNum(number) == True:\n",
    "        print(\"{} is a prime number\".format(number))\n",
    "    else:\n",
    "        print(\"{} isn't a prime number\".format(number))\n"
   ]
  },
  {
   "cell_type": "code",
   "execution_count": 40,
   "metadata": {},
   "outputs": [
    {
     "name": "stdout",
     "output_type": "stream",
     "text": [
      "watch\n",
      "food\n",
      "nutella\n"
     ]
    }
   ],
   "source": [
    "#Question no.6\n",
    "\n",
    "def checkout(*products):\n",
    "    for product in products:\n",
    "        print(product)\n",
    "\n",
    "checkout(\"watch\",\"food\",\"nutella\")\n"
   ]
  }
 ],
 "metadata": {
  "kernelspec": {
   "display_name": "Python 3",
   "language": "python",
   "name": "python3"
  },
  "language_info": {
   "codemirror_mode": {
    "name": "ipython",
    "version": 3
   },
   "file_extension": ".py",
   "mimetype": "text/x-python",
   "name": "python",
   "nbconvert_exporter": "python",
   "pygments_lexer": "ipython3",
   "version": "3.7.4"
  }
 },
 "nbformat": 4,
 "nbformat_minor": 2
}
