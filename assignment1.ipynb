{
 "cells": [
  {
   "cell_type": "code",
   "execution_count": 1,
   "metadata": {},
   "outputs": [
    {
     "name": "stdout",
     "output_type": "stream",
     "text": [
      "1: Write a Python program to print the following string in a specific format.\n",
      "\n",
      "              Twinkle, twinkle, little star,\n",
      "                           How I wonder what you are!\n",
      "                       Up above the world so high,\n",
      "                       Like a diamond in the sky.\n",
      "              Twinkle, twinkle, little star,\n",
      "                           How I wonder what you are\n"
     ]
    }
   ],
   "source": [
    "print(\"1: Write a Python program to print the following string in a specific format.\")\n",
    "mystring = '''\n",
    "              Twinkle, twinkle, little star,\n",
    "                           How I wonder what you are!\n",
    "                       Up above the world so high,\n",
    "                       Like a diamond in the sky.\n",
    "              Twinkle, twinkle, little star,\n",
    "                           How I wonder what you are'''\n",
    "print(mystring)\n"
   ]
  },
  {
   "cell_type": "code",
   "execution_count": 2,
   "metadata": {},
   "outputs": [
    {
     "name": "stdout",
     "output_type": "stream",
     "text": [
      "2: Write a Python program to get the Python version you are using.\n",
      "\n",
      "My python version is3.7.3 | packaged by conda-forge | (default, Jul  1 2019, 21:52:21) \n",
      "[GCC 7.3.0]\n"
     ]
    }
   ],
   "source": [
    "print(\"2: Write a Python program to get the Python version you are using.\")\n",
    "import sys\n",
    "print(\"\\nMy python version is\"+sys.version)"
   ]
  },
  {
   "cell_type": "code",
   "execution_count": 3,
   "metadata": {},
   "outputs": [
    {
     "name": "stdout",
     "output_type": "stream",
     "text": [
      "3: Write a Python program to display the current date and time.\n",
      "Sun Nov  3 12:34:25 2019\n"
     ]
    }
   ],
   "source": [
    "print(\"3: Write a Python program to display the current date and time.\")\n",
    "import datetime\n",
    "x = datetime.datetime.now()\n",
    "print(x.strftime(\"%c\"))\n"
   ]
  },
  {
   "cell_type": "code",
   "execution_count": 4,
   "metadata": {},
   "outputs": [
    {
     "name": "stdout",
     "output_type": "stream",
     "text": [
      "4: Write a Python program which accepts the radius of a circle from the user and compute the area.\n"
     ]
    },
    {
     "name": "stdin",
     "output_type": "stream",
     "text": [
      "\n",
      "Enter radius of the circle :  2.1\n"
     ]
    },
    {
     "name": "stdout",
     "output_type": "stream",
     "text": [
      "\n",
      "The area of the circle with radius 2.1 is: 13.854423602330987\n"
     ]
    }
   ],
   "source": [
    "print(\"4: Write a Python program which accepts the radius of a circle from the user and compute the area.\")\n",
    "from math import pi\n",
    "radius = float(input (\"\\nEnter radius of the circle : \"))\n",
    "print (\"\\nThe area of the circle with radius \" + str(radius) + \" is: \" + str(pi * radius**2))"
   ]
  },
  {
   "cell_type": "code",
   "execution_count": 5,
   "metadata": {},
   "outputs": [
    {
     "name": "stdout",
     "output_type": "stream",
     "text": [
      "5. Write a program which accepts the user's first and last name and print them in reverse order with a space between them.\n"
     ]
    },
    {
     "name": "stdin",
     "output_type": "stream",
     "text": [
      " Ali\n",
      " Khan\n"
     ]
    },
    {
     "name": "stdout",
     "output_type": "stream",
     "text": [
      "Fullname: nahK ilA\n",
      "Fullname using reverse order: nahK ilA\n"
     ]
    }
   ],
   "source": [
    "print(\"5. Write a program which accepts the user's first and last name and print them in reverse order with a space between them.\")\n",
    "\n",
    "fname = input()\n",
    "lname = input()\n",
    "fullname = fname +\" \"+ lname\n",
    "print(\"Fullname: \"+fullname [::-1])\n",
    "print(\"Fullname using reverse order: \"+fullname [::-1])\n"
   ]
  },
  {
   "cell_type": "code",
   "execution_count": 7,
   "metadata": {},
   "outputs": [
    {
     "name": "stdout",
     "output_type": "stream",
     "text": [
      "6. Write a python program which takes two inputs from user and print them Addition\n",
      "\n",
      "Please Enter integer values\n"
     ]
    },
    {
     "name": "stdin",
     "output_type": "stream",
     "text": [
      " 12\n",
      " 12\n"
     ]
    },
    {
     "name": "stdout",
     "output_type": "stream",
     "text": [
      "24\n"
     ]
    }
   ],
   "source": [
    "print(\"6. Write a python program which takes two inputs from user and print them Addition\")\n",
    "print(\"\\nPlease Enter integer values\")\n",
    "val1=int(input())\n",
    "val2=int(input())\n",
    "print(val1+val2)\n"
   ]
  },
  {
   "cell_type": "code",
   "execution_count": null,
   "metadata": {},
   "outputs": [],
   "source": []
  }
 ],
 "metadata": {
  "kernelspec": {
   "display_name": "Python 3",
   "language": "python",
   "name": "python3"
  },
  "language_info": {
   "codemirror_mode": {
    "name": "ipython",
    "version": 3
   },
   "file_extension": ".py",
   "mimetype": "text/x-python",
   "name": "python",
   "nbconvert_exporter": "python",
   "pygments_lexer": "ipython3",
   "version": "3.7.3"
  }
 },
 "nbformat": 4,
 "nbformat_minor": 4
}
