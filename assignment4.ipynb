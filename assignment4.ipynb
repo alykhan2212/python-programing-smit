{
 "cells": [
  {
   "cell_type": "code",
   "execution_count": 57,
   "metadata": {},
   "outputs": [
    {
     "name": "stdout",
     "output_type": "stream",
     "text": [
      "# Dictionary Data\n",
      "\n",
      "first_name = Ali\n",
      "last_name = khan\n",
      "age = 25\n",
      "city = hyd\n",
      "\n",
      "# Dictionary updated with new key & value pair named qualification\n",
      "\n",
      "first_name = Ali\n",
      "last_name = khan\n",
      "age = 25\n",
      "city = hyd\n",
      "qualification = graduate\n",
      "\n",
      "# Dictionary key \"qualification\" updated, with high academic level \n",
      "\n",
      "first_name = Ali\n",
      "last_name = khan\n",
      "age = 25\n",
      "city = hyd\n",
      "qualification = masters\n",
      "\n",
      "# Dictionary Data after removing qualification key\n",
      "\n",
      "first_name = Ali\n",
      "last_name = khan\n",
      "age = 25\n",
      "city = hyd\n"
     ]
    }
   ],
   "source": [
    "#Question1\n",
    "\n",
    "d = {'first_name':'Ali',\n",
    "     'last_name' : 'khan',\n",
    "     'age':'25',\n",
    "     'city':'hyd'\n",
    "    }\n",
    "\n",
    "print('# Dictionary Data\\n')\n",
    "for x in d:\n",
    "    print(x + ' = ' + d.get(x))\n",
    "        \n",
    "print('\\n# Dictionary updated with new key & value pair named qualification\\n')\n",
    "d['qualification'] = 'graduate'\n",
    "\n",
    "for x in d:\n",
    "    print(x + ' = ' + d.get(x))\n",
    "\n",
    "\n",
    "print('\\n# Dictionary key \"qualification\" updated, with high academic level \\n')    \n",
    "d.update(qualification = 'masters')\n",
    "\n",
    "for x in d:\n",
    "    print(x + ' = ' + d.get(x))\n",
    "    \n",
    "print('\\n# Dictionary Data after removing qualification key\\n')\n",
    "d.pop('qualification')\n",
    "\n",
    "for x in d:\n",
    "    print(x + ' = ' + d.get(x))"
   ]
  },
  {
   "cell_type": "code",
   "execution_count": 144,
   "metadata": {},
   "outputs": [
    {
     "name": "stdout",
     "output_type": "stream",
     "text": [
      "\n",
      "sydney {'country': 'australia', 'population': '5.23 million', 'fact': 'It is the 12th most expensive city with property prices averaging USD8,717 per square metre.'}\n",
      "\n",
      "karachi {'country': 'pakistan', 'population': '14.91 million (2017)', 'fact': 'Karachi is known as City of Lights'}\n",
      "\n",
      "istanbul {'country': 'turkey', 'population': '15.07 million', 'fact': 'only city in the world which is both in Europe and Asia geographicaly'}\n"
     ]
    }
   ],
   "source": [
    "#Question2\n",
    "\n",
    "cities = {'sydney':{'country':'australia',\n",
    "                    'population':'5.23 million',\n",
    "                    'fact':'It is the 12th most expensive city with property prices averaging USD8,717 per square metre.'\n",
    "                   },\n",
    "          'karachi':{'country':'pakistan',\n",
    "                     'population':'14.91 million (2017)',\n",
    "                     'fact':'Karachi is known as City of Lights'\n",
    "                    },\n",
    "          'istanbul': {'country':'turkey',\n",
    "                       'population':'15.07 million',\n",
    "                       'fact':'only city in the world which is both in Europe and Asia geographicaly'\n",
    "                      } \n",
    "         }\n",
    "  \n",
    "for k in cities.keys():\n",
    "    print (\"\\n\" + k, cities[k])"
   ]
  },
  {
   "cell_type": "code",
   "execution_count": 49,
   "metadata": {},
   "outputs": [
    {
     "name": "stdout",
     "output_type": "stream",
     "text": [
      "Put your age here 10\n",
      "\n",
      "Ticket price is $10\n"
     ]
    }
   ],
   "source": [
    "#Question3\n",
    "\n",
    "condition = 1\n",
    "age = int(input(\"Put your age here \"))\n",
    "    \n",
    "while condition == 1 :\n",
    "    if age <= 3:\n",
    "        print(\"\\nYou ticket is free\")\n",
    "        break\n",
    "    elif age >= 3 and age <= 12:\n",
    "        print(\"\\nTicket price is $10\")\n",
    "        break\n",
    "    elif age > 12:\n",
    "        print(\"\\nTicket price is $15\")\n",
    "        break\n",
    "    else:\n",
    "        print('invalid age try again')"
   ]
  },
  {
   "cell_type": "code",
   "execution_count": 54,
   "metadata": {},
   "outputs": [
    {
     "name": "stdout",
     "output_type": "stream",
     "text": [
      "Gaye Dino Ke Suraj is One of my favorite books\n"
     ]
    }
   ],
   "source": [
    "#Question4\n",
    "\n",
    "def favorite_book(title):\n",
    "    print(\"{0} is One of my favorite books\".format(title))\n",
    "    \n",
    "favorite_book('Gaye Dino Ke Suraj')"
   ]
  },
  {
   "cell_type": "code",
   "execution_count": 63,
   "metadata": {
    "scrolled": true
   },
   "outputs": [
    {
     "name": "stdout",
     "output_type": "stream",
     "text": [
      "I am thinking of a number between 1 and 30.\n",
      "Take a guess.\n",
      "1\n",
      "Your guess is too low.\n",
      "Take a guess.\n",
      "5\n",
      "Good job,You guessed my number in 2 guesses!\n"
     ]
    }
   ],
   "source": [
    "#Question5\n",
    "\n",
    "import random\n",
    " \n",
    "guessesTaken = 0\n",
    "number = random.randint(1, 30)\n",
    "print('I am thinking of a number between 1 and 30.')\n",
    "\n",
    "while guessesTaken < 3:\n",
    "    print('Take a guess.')\n",
    "    guess = int(input())\n",
    "    guessesTaken = guessesTaken + 1\n",
    "\n",
    "    if guess < number:\n",
    "        print('Your guess is too low.')\n",
    "    if guess > number:\n",
    "        print('Your guess is too high.')\n",
    "    if guess == number:\n",
    "         break\n",
    "\n",
    "if guess == number:\n",
    "    guessesTaken = str(guessesTaken)\n",
    "    print('Good job,You guessed my number in ' + guessesTaken + ' guesses!')\n",
    "\n",
    "if guess != number:\n",
    "    number = str(number)\n",
    "    print('Nope. The number I was thinking of was ' + number)\n",
    "\n"
   ]
  }
 ],
 "metadata": {
  "kernelspec": {
   "display_name": "Python 3",
   "language": "python",
   "name": "python3"
  },
  "language_info": {
   "codemirror_mode": {
    "name": "ipython",
    "version": 3
   },
   "file_extension": ".py",
   "mimetype": "text/x-python",
   "name": "python",
   "nbconvert_exporter": "python",
   "pygments_lexer": "ipython3",
   "version": "3.7.4"
  }
 },
 "nbformat": 4,
 "nbformat_minor": 2
}
