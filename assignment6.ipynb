{
 "cells": [
  {
   "cell_type": "markdown",
   "metadata": {},
   "source": [
    "# Q:1 Define Object Oriented Programming Language?\n",
    "\n",
    "Object-Oriented Programming (OOP) is the term used to describe a programming approach based on objects and classes. Some languages have even had object-oriented features retrofitted. It is widely accepted that object-oriented programming is the most important and powerful way of creating software.\n",
    "\n",
    "The important features of Object Oriented programming\n",
    "\n",
    "- Classes\n",
    "- Objects\n",
    "- Polymorphism\n",
    "- Inheritance\n",
    "- Encapsulation\n",
    "- Abstraction\n"
   ]
  },
  {
   "cell_type": "markdown",
   "metadata": {},
   "source": [
    "# Q:2 List down the Benefits of OOP?\n",
    "\n",
    "OOP takes new and existing software objects and \"stitch\" them together to make new programs, Object libraries contain many useful functions, developers don't have to reinvent all code.\n",
    "\n",
    "Some key benefits\n",
    "\n",
    "- Clear Modular Structure\n",
    "- Re-usability\n",
    "- Data Redundancy\n",
    "- Code Maintenance\n",
    "- Security\n",
    "- Better productivity\n",
    "- Easy troubleshooting\n",
    "\n"
   ]
  },
  {
   "cell_type": "markdown",
   "metadata": {},
   "source": [
    "# Q:3 Differentiate between function and method?\n",
    "\n",
    "<b>Function</b> is a piece of code that is called by name. It can be passed data to operate on (i.e. the parameters) and can optionally return data (the return value). All data that is passed to a function is explicitly passed.\n",
    "\n",
    "<b>Methods</b> are the set of instructions which are executed on an object of a class. In simple words functions in class are method\n"
   ]
  },
  {
   "cell_type": "markdown",
   "metadata": {},
   "source": [
    "# Q:4 Define the following terms:\n",
    "\n",
    "<b>Class :</b>\n",
    "A Class is a description of a group of objects with common properties (attributes), behavior (operations), relationships, and semantics. A class is an entity that determines how an object will behave and what the object will contain. In other words, it is a blueprint or a set of instruction to build a specific type of object.\n",
    "\n",
    "<b>Object :</b>\n",
    "Object is an instance of a particular class or subclass. An object is self-contained component which consists of methods and properties to make a particular type of data useful. Object determines the behavior of the class. When you send a message to an object, you are asking the object to invoke or execute one of its methods.\n",
    "\n",
    "<b>Attribute :</b>\n",
    "An Attribute is a named property of a class. It has a type. It describes the range of values that that property may hold.\n",
    "\n",
    "<b>Behavior :</b>\n",
    "A class's behavior determines how an instance of that class operates; for example, how it will \"react\" if asked to do something by another class or object or if its internal state changes. Behavior is the only way objects can do anything to themselves or have anything done to them."
   ]
  },
  {
   "cell_type": "code",
   "execution_count": 57,
   "metadata": {},
   "outputs": [
    {
     "name": "stdout",
     "output_type": "stream",
     "text": [
      "HONDA 2019\n",
      "red\n",
      "Hello i am method\n",
      "HONDA\n",
      "BMW\n",
      "100000\n"
     ]
    }
   ],
   "source": [
    "# Q:5 Write a code in python in which create a class named it Car which have 5 attributes such like (model, color and name etc.) and 3 methods. And create 5 object instance from that class.\n",
    "\n",
    "class Car:\n",
    "    \n",
    "    def __init__(self, name, year, color, cartype, price):\n",
    "        self.name = name\n",
    "        self.year = year\n",
    "        self.color = color\n",
    "        self.cartype = cartype\n",
    "        self.price = price\n",
    "\n",
    "    def carDetails(self):\n",
    "        print(self.name,self.year)\n",
    "    \n",
    "    def carColor(self):\n",
    "        print(self.color)\n",
    "    \n",
    "    def myMethod(self):\n",
    "        print('Hello i am method')\n",
    "        \n",
    "\n",
    "car1 = Car('HONDA','2019','white','manual',1000)\n",
    "car2 = Car('BMW','2018','red','manual',35300)\n",
    "car3 = Car('tesla X','2017','gray','self',100000)\n",
    "car4 = Car('audi','2016','black','automatic',300000)\n",
    "car4 = Car('swift','2015','blue','manual',300000)\n",
    "\n",
    "car1.carDetails()\n",
    "car2.carColor()\n",
    "car2.myMethod()\n",
    "\n",
    "print(car1.name)\n",
    "print(car2.name)\n",
    "print(car3.price)"
   ]
  },
  {
   "cell_type": "code",
   "execution_count": null,
   "metadata": {},
   "outputs": [],
   "source": []
  }
 ],
 "metadata": {
  "kernelspec": {
   "display_name": "Python 3",
   "language": "python",
   "name": "python3"
  },
  "language_info": {
   "codemirror_mode": {
    "name": "ipython",
    "version": 3
   },
   "file_extension": ".py",
   "mimetype": "text/x-python",
   "name": "python",
   "nbconvert_exporter": "python",
   "pygments_lexer": "ipython3",
   "version": "3.7.4"
  }
 },
 "nbformat": 4,
 "nbformat_minor": 2
}
